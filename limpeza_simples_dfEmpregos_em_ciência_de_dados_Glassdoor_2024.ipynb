{
  "nbformat": 4,
  "nbformat_minor": 0,
  "metadata": {
    "colab": {
      "provenance": [],
      "authorship_tag": "ABX9TyOkp7DkD7tblHHhtkw5pn0N",
      "include_colab_link": true
    },
    "kernelspec": {
      "name": "python3",
      "display_name": "Python 3"
    },
    "language_info": {
      "name": "python"
    }
  },
  "cells": [
    {
      "cell_type": "markdown",
      "metadata": {
        "id": "view-in-github",
        "colab_type": "text"
      },
      "source": [
        "<a href=\"https://colab.research.google.com/github/WesleySouza13/ESTUDOS/blob/main/limpeza_simples_dfEmpregos_em_ci%C3%AAncia_de_dados_Glassdoor_2024.ipynb\" target=\"_parent\"><img src=\"https://colab.research.google.com/assets/colab-badge.svg\" alt=\"Open In Colab\"/></a>"
      ]
    },
    {
      "cell_type": "code",
      "execution_count": 7,
      "metadata": {
        "id": "4wqw76aVErkL"
      },
      "outputs": [],
      "source": [
        "#IMPORTANDO BIBLIOTECAS\n",
        "import pandas as pd"
      ]
    },
    {
      "cell_type": "code",
      "source": [],
      "metadata": {
        "id": "RUonkHLVefOI"
      },
      "execution_count": null,
      "outputs": []
    },
    {
      "cell_type": "code",
      "source": [
        "#LEITURA DA BASE DE DADOS\n",
        "df = pd.read_csv('/content/Glassdoor_Job_Postings.csv')"
      ],
      "metadata": {
        "id": "R7ygBSDtGATn"
      },
      "execution_count": 6,
      "outputs": []
    },
    {
      "cell_type": "code",
      "source": [
        "df.columns"
      ],
      "metadata": {
        "colab": {
          "base_uri": "https://localhost:8080/"
        },
        "id": "gkWhfparGUuK",
        "outputId": "371a70db-f154-4d59-b830-1421e49c676a"
      },
      "execution_count": 5,
      "outputs": [
        {
          "output_type": "execute_result",
          "data": {
            "text/plain": [
              "Index(['company', 'job_title', 'company_rating', 'job_description', 'location',\n",
              "       'salary_avg_estimate', 'salary_estimate_payperiod', 'company_size',\n",
              "       'company_founded', 'employment_type', 'industry', 'sector', 'revenue',\n",
              "       'career_opportunities_rating', 'comp_and_benefits_rating',\n",
              "       'culture_and_values_rating', 'senior_management_rating',\n",
              "       'work_life_balance_rating'],\n",
              "      dtype='object')"
            ]
          },
          "metadata": {},
          "execution_count": 5
        }
      ]
    },
    {
      "cell_type": "code",
      "source": [
        "#LIMPEZA DE DADOS\n",
        "#NESSE CASO, VAMOS COMEÇAR VERIFICANDO SE HA DADOS NULOS\n",
        "\n",
        "df.head(10)"
      ],
      "metadata": {
        "id": "VOn__NxSGj9b"
      },
      "execution_count": null,
      "outputs": []
    },
    {
      "cell_type": "code",
      "source": [
        "#IDENTIFICAMOS DADOS NULOS NA COLUNA:salary_avg_estimate\n",
        "\n",
        "df.salary_avg_estimate.isnull().sum()\n"
      ],
      "metadata": {
        "colab": {
          "base_uri": "https://localhost:8080/"
        },
        "id": "9HpwDMsMG_mQ",
        "outputId": "ad25ed85-d9d3-46fa-84be-beff512ef8aa"
      },
      "execution_count": 11,
      "outputs": [
        {
          "output_type": "execute_result",
          "data": {
            "text/plain": [
              "264"
            ]
          },
          "metadata": {},
          "execution_count": 11
        }
      ]
    },
    {
      "cell_type": "code",
      "source": [
        "#IDENTIFICAMOS DADOS NULOS NA COLUNA:company_founded\n",
        "#MAIS PRA FRENTE, VEREMOS QUE O ANO QUE A EMPRESSA FOI FUNDADA N É RELEVANNTE\n",
        "df.company_founded.isnull().sum()"
      ],
      "metadata": {
        "colab": {
          "base_uri": "https://localhost:8080/"
        },
        "id": "aQ6aGDzeH3l0",
        "outputId": "a41f8f3b-b3eb-435e-9c45-145c8742fcb5"
      },
      "execution_count": 12,
      "outputs": [
        {
          "output_type": "execute_result",
          "data": {
            "text/plain": [
              "126"
            ]
          },
          "metadata": {},
          "execution_count": 12
        }
      ]
    },
    {
      "cell_type": "code",
      "source": [
        "#IDENTIFICAMOS DADOS NULOS NA COLUNA:company_rating\n",
        "df.company_rating.isnull().sum()"
      ],
      "metadata": {
        "colab": {
          "base_uri": "https://localhost:8080/"
        },
        "id": "mQAd5IF3IH0W",
        "outputId": "530431b3-62b6-4ad8-81f5-9e8cab515d48"
      },
      "execution_count": 14,
      "outputs": [
        {
          "output_type": "execute_result",
          "data": {
            "text/plain": [
              "244"
            ]
          },
          "metadata": {},
          "execution_count": 14
        }
      ]
    },
    {
      "cell_type": "code",
      "source": [
        "#IDENTIFICAMOS DADOS NULOS NA COLUNA:career_opportunities_rating\n",
        "df.career_opportunities_rating.isnull().sum()\n"
      ],
      "metadata": {
        "colab": {
          "base_uri": "https://localhost:8080/"
        },
        "id": "yBYLdxZAIbUR",
        "outputId": "2371110b-7523-492a-e77d-00d105032485"
      },
      "execution_count": 17,
      "outputs": [
        {
          "output_type": "execute_result",
          "data": {
            "text/plain": [
              "169"
            ]
          },
          "metadata": {},
          "execution_count": 17
        }
      ]
    },
    {
      "cell_type": "code",
      "source": [
        "df.culture_and_values_rating.isnull().sum()"
      ],
      "metadata": {
        "colab": {
          "base_uri": "https://localhost:8080/"
        },
        "id": "TnipaohZIzjA",
        "outputId": "8a03d2cd-d671-4021-d501-54316097537a"
      },
      "execution_count": 18,
      "outputs": [
        {
          "output_type": "execute_result",
          "data": {
            "text/plain": [
              "169"
            ]
          },
          "metadata": {},
          "execution_count": 18
        }
      ]
    },
    {
      "cell_type": "code",
      "source": [
        "df.senior_management_rating.isnull().sum()"
      ],
      "metadata": {
        "colab": {
          "base_uri": "https://localhost:8080/"
        },
        "id": "kVG75fQZI7xW",
        "outputId": "d456976e-d6cd-4edc-f176-6517a904bc60"
      },
      "execution_count": 19,
      "outputs": [
        {
          "output_type": "execute_result",
          "data": {
            "text/plain": [
              "169"
            ]
          },
          "metadata": {},
          "execution_count": 19
        }
      ]
    },
    {
      "cell_type": "code",
      "source": [
        "df.senior_management_rating.isnull().sum()"
      ],
      "metadata": {
        "colab": {
          "base_uri": "https://localhost:8080/"
        },
        "id": "w5u_TVI5JECg",
        "outputId": "64d22041-33c1-4f9c-9cb7-597d70aed217"
      },
      "execution_count": 21,
      "outputs": [
        {
          "output_type": "execute_result",
          "data": {
            "text/plain": [
              "169"
            ]
          },
          "metadata": {},
          "execution_count": 21
        }
      ]
    },
    {
      "cell_type": "code",
      "source": [
        "#tratamento de dados nulos n pode ser feito de qualquer maneira, pois pode causar inconsistencias na analise.\n",
        "#n podemos mensurar e estimar valores, porem, podemos localizar e dar outro caminho a esse dados. segue:\n",
        "\n",
        "df.loc[df.salary_avg_estimate.isnull(),'salary_avg_estimate']='Valor desconhecido'\n",
        "\n",
        "\n"
      ],
      "metadata": {
        "id": "27lJcKMzJRL-"
      },
      "execution_count": 24,
      "outputs": []
    },
    {
      "cell_type": "code",
      "source": [
        "#COMO NAO ESTAMOS TRABALHANDO COM REGRESSAO LINEAR PARA ESTIMAR O VALOR, SUBSTITUINDO OS DADOS NULOS POR \"VALOR DESCONHECIDO\"\n",
        "df.salary_avg_estimate.head(10)"
      ],
      "metadata": {
        "id": "XUI2AYG-KqkI"
      },
      "execution_count": null,
      "outputs": []
    },
    {
      "cell_type": "code",
      "source": [
        "df.head(10)"
      ],
      "metadata": {
        "id": "d1GN2SdYO61y"
      },
      "execution_count": null,
      "outputs": []
    },
    {
      "cell_type": "code",
      "source": [
        "#valor social das empresas(privada ou publica)\n",
        " #nesse df, existem 3 tipos de variaveis:'Company - Public, Company - Private,Self-employed'\n",
        "\n",
        "#primeiro vamos vizualizar usando 'df.employment_type.head(50)'\n",
        "\n",
        "#depois, vamos substituir dados nulos por 'nao divulgada'\n",
        "df.loc[df.employment_type.isnull(),'employment_type']='Nao divulgada'\n",
        "df.employment_type.head(50)"
      ],
      "metadata": {
        "id": "RQAmGpE1PtAz"
      },
      "execution_count": null,
      "outputs": []
    },
    {
      "cell_type": "code",
      "source": [
        "#PARA AS AVALIACOES 'career_opportunities_rating, comp_and_benefits_rating, culture_and_values_rating, senior_management_rating E work_life_balance_rating, VAMOS USAR UM METODO NAO RECOMENDADVEL PARA ESTIMAR(MEDIA)\n",
        "#PARA MODELOS DE MACHINE LEARNING, USAMOS METODOS PREDITIVOS OU REGRESSAO LINEAR. ESSE CASO DE ESTUDO, É SO UMA BASE DE LIMPEZA DE DADOS, E COMO ISSO É A PARTE MAIS IMPORTANTE DA ANALISE E CIENCIA DE DADOS\n",
        "#VAMOS FAZER A MEDIA DE career_opportunities_rating\n",
        "df.loc[df.career_opportunities_rating.isnull(),'career_opportunities_rating']=df['career_opportunities_rating'].mean()\n",
        "df.career_opportunities_rating.head(10)\n",
        "#lembrando que isso não é o melhor metodo a se fazer"
      ],
      "metadata": {
        "id": "6IZgPyMGQ9JE"
      },
      "execution_count": null,
      "outputs": []
    },
    {
      "cell_type": "code",
      "source": [
        "#faremos o mesmo nas outras colunas\n",
        "df.loc[df.comp_and_benefits_rating.isnull(),'comp_and_benefits_rating'] = df.comp_and_benefits_rating.mean()\n",
        "df.comp_and_benefits_rating.head(10)"
      ],
      "metadata": {
        "id": "Iomj4DieT10M"
      },
      "execution_count": null,
      "outputs": []
    },
    {
      "cell_type": "code",
      "source": [
        "df.loc[df.culture_and_values_rating.isnull(),'culture_and_values_rating']= df.culture_and_values_rating.mean()\n",
        "df.culture_and_values_rating.head(10)"
      ],
      "metadata": {
        "id": "ulas2UrzUPKV"
      },
      "execution_count": null,
      "outputs": []
    },
    {
      "cell_type": "code",
      "source": [
        "df.loc[df.culture_and_values_rating.isnull(),'culture_and_values_rating'] = df.culture_and_values_rating.mean()\n",
        "df.culture_and_values_rating.head(10)"
      ],
      "metadata": {
        "id": "WRTXa3PcUlki"
      },
      "execution_count": null,
      "outputs": []
    },
    {
      "cell_type": "code",
      "source": [
        "df.loc[df.senior_management_rating.isnull(),'senior_management_rating'] = df.senior_management_rating.mean()\n",
        "df.senior_management_rating.head(10)"
      ],
      "metadata": {
        "id": "xHEGRO3hU6N-"
      },
      "execution_count": null,
      "outputs": []
    },
    {
      "cell_type": "code",
      "source": [
        "df.loc[df.work_life_balance_rating.isnull(),'work_life_balance_rating'] = df.work_life_balance_rating.mean()\n",
        "df.work_life_balance_rating.head(10)"
      ],
      "metadata": {
        "id": "D1K3ZG1eVQ6N"
      },
      "execution_count": null,
      "outputs": []
    },
    {
      "cell_type": "code",
      "source": [
        "#agora, vizualizaremos como esta nosso df\n",
        "df.head()"
      ],
      "metadata": {
        "id": "h-T0UIqUVdGt"
      },
      "execution_count": null,
      "outputs": []
    },
    {
      "cell_type": "code",
      "source": [
        "#agora, iremos dropar colunas desnecessaria para nossa analise com o comando .drop\n",
        "df.drop('company_size',axis=1,inplace=True)#se executar essa linha, dara erro pois ja foi removida do df original\n"
      ],
      "metadata": {
        "id": "83u2T_JOW_gX"
      },
      "execution_count": null,
      "outputs": []
    },
    {
      "cell_type": "code",
      "source": [
        "#leitura do df orignal\n",
        "df.head(10)"
      ],
      "metadata": {
        "colab": {
          "base_uri": "https://localhost:8080/",
          "height": 817
        },
        "id": "osAbv4GmZ5kt",
        "outputId": "87561fc9-42fd-41a1-be0b-c97db5e21c8f"
      },
      "execution_count": 122,
      "outputs": [
        {
          "output_type": "execute_result",
          "data": {
            "text/plain": [
              "               company                                          job_title  \\\n",
              "0                  ABB                                Junior Data Analyst   \n",
              "1              Philips                             Data Scientist - AI/ML   \n",
              "2                 HSBC                                 Data Science GSC’s   \n",
              "3    Facctum Solutions                                       Data Analyst   \n",
              "4  JPMorgan Chase & Co                     Data and Analytics - Associate   \n",
              "5           Sanfoundry                           Data Scientist - Fresher   \n",
              "6               Beinex                            Trainee in Data Science   \n",
              "7           Sanfoundry  Junior Software Engineer - Data Science - Fresher   \n",
              "8               Oracle                                     Data Scientist   \n",
              "9              PhonePe                                     Data Scientist   \n",
              "\n",
              "   company_rating                                    job_description  \\\n",
              "0             4.0  Junior Data Analyst\\nTake your next career ste...   \n",
              "1             4.0  Job Title\\nData Scientist - AI/ML\\nJob Descrip...   \n",
              "2             3.9  Job description\\nGraduate/ Post-graduate degre...   \n",
              "3  sem informação  Job Description\\nExperience: 0 - 2 years in da...   \n",
              "4             4.0  JOB DESCRIPTION\\n\\nYou are a strategic thinker...   \n",
              "5  sem informação  Job Code: Data-Scientist-Fresher-24011\\n\\nLoca...   \n",
              "6             3.9  Highlights\\nExperience\\nFreshers\\nJoining Date...   \n",
              "7  sem informação  Job Code: Data-Scientist-Fresher-24012\\n\\nLoca...   \n",
              "8             3.8  The data science team at Oracle Analytics work...   \n",
              "9             4.1  About PhonePe Group:\\nPhonePe is India’s leadi...   \n",
              "\n",
              "    location salary_avg_estimate company_founded    employment_type  \\\n",
              "0  Bengaluru           ₹3,25,236            1883   Company - Public   \n",
              "1  Bengaluru  Valor desconhecido            1891   Company - Public   \n",
              "2  Bengaluru  Valor desconhecido            1865   Company - Public   \n",
              "3  Karnataka  Valor desconhecido              --  Company - Private   \n",
              "4      India  Valor desconhecido            1799   Company - Public   \n",
              "5  Hyderābād           ₹4,16,516              --      Self-employed   \n",
              "6     Cochin           ₹2,80,977            2017  Company - Private   \n",
              "7  Hyderābād           ₹3,82,623              --      Self-employed   \n",
              "8  Bengaluru           ₹7,09,930            1977   Company - Public   \n",
              "9  Bengaluru          ₹10,24,695            2015  Company - Private   \n",
              "\n",
              "                                  industry                  sector  \\\n",
              "0                Electronics Manufacturing           Manufacturing   \n",
              "1          Healthcare Services & Hospitals              Healthcare   \n",
              "2                        Banking & Lending                 Finance   \n",
              "3                                       --                      --   \n",
              "4                        Banking & Lending                 Finance   \n",
              "5                  Colleges & Universities               Education   \n",
              "6  Information Technology Support Services  Information Technology   \n",
              "7                  Colleges & Universities               Education   \n",
              "8  Enterprise Software & Network Solutions  Information Technology   \n",
              "9                  Internet & Web Services  Information Technology   \n",
              "\n",
              "                    revenue  career_opportunities_rating  \\\n",
              "0        $10+ billion (USD)                     3.700000   \n",
              "1        $10+ billion (USD)                     3.800000   \n",
              "2        $10+ billion (USD)                     3.600000   \n",
              "3  Unknown / Non-Applicable                     3.838304   \n",
              "4        $10+ billion (USD)                     4.000000   \n",
              "5  Unknown / Non-Applicable                     4.500000   \n",
              "6  Unknown / Non-Applicable                     3.800000   \n",
              "7  Unknown / Non-Applicable                     4.500000   \n",
              "8        $10+ billion (USD)                     3.600000   \n",
              "9  Unknown / Non-Applicable                     4.000000   \n",
              "\n",
              "   comp_and_benefits_rating  culture_and_values_rating  \\\n",
              "0                  3.600000                    4.00000   \n",
              "1                  3.700000                    4.00000   \n",
              "2                  3.600000                    3.80000   \n",
              "3                  3.678796                    3.90301   \n",
              "4                  3.900000                    3.90000   \n",
              "5                  4.300000                    4.60000   \n",
              "6                  3.600000                    3.90000   \n",
              "7                  4.300000                    4.60000   \n",
              "8                  3.500000                    3.70000   \n",
              "9                  4.200000                    4.10000   \n",
              "\n",
              "   senior_management_rating  work_life_balance_rating  \n",
              "0                  3.500000                  3.900000  \n",
              "1                  3.500000                  4.000000  \n",
              "2                  3.400000                  3.700000  \n",
              "3                  3.677702                  3.804378  \n",
              "4                  3.600000                  3.700000  \n",
              "5                  4.700000                  4.600000  \n",
              "6                  3.900000                  3.500000  \n",
              "7                  4.700000                  4.600000  \n",
              "8                  3.500000                  4.000000  \n",
              "9                  3.700000                  3.800000  "
            ],
            "text/html": [
              "\n",
              "  <div id=\"df-24d9ac43-5c55-464d-b27a-440b17a4a31c\" class=\"colab-df-container\">\n",
              "    <div>\n",
              "<style scoped>\n",
              "    .dataframe tbody tr th:only-of-type {\n",
              "        vertical-align: middle;\n",
              "    }\n",
              "\n",
              "    .dataframe tbody tr th {\n",
              "        vertical-align: top;\n",
              "    }\n",
              "\n",
              "    .dataframe thead th {\n",
              "        text-align: right;\n",
              "    }\n",
              "</style>\n",
              "<table border=\"1\" class=\"dataframe\">\n",
              "  <thead>\n",
              "    <tr style=\"text-align: right;\">\n",
              "      <th></th>\n",
              "      <th>company</th>\n",
              "      <th>job_title</th>\n",
              "      <th>company_rating</th>\n",
              "      <th>job_description</th>\n",
              "      <th>location</th>\n",
              "      <th>salary_avg_estimate</th>\n",
              "      <th>company_founded</th>\n",
              "      <th>employment_type</th>\n",
              "      <th>industry</th>\n",
              "      <th>sector</th>\n",
              "      <th>revenue</th>\n",
              "      <th>career_opportunities_rating</th>\n",
              "      <th>comp_and_benefits_rating</th>\n",
              "      <th>culture_and_values_rating</th>\n",
              "      <th>senior_management_rating</th>\n",
              "      <th>work_life_balance_rating</th>\n",
              "    </tr>\n",
              "  </thead>\n",
              "  <tbody>\n",
              "    <tr>\n",
              "      <th>0</th>\n",
              "      <td>ABB</td>\n",
              "      <td>Junior Data Analyst</td>\n",
              "      <td>4.0</td>\n",
              "      <td>Junior Data Analyst\\nTake your next career ste...</td>\n",
              "      <td>Bengaluru</td>\n",
              "      <td>₹3,25,236</td>\n",
              "      <td>1883</td>\n",
              "      <td>Company - Public</td>\n",
              "      <td>Electronics Manufacturing</td>\n",
              "      <td>Manufacturing</td>\n",
              "      <td>$10+ billion (USD)</td>\n",
              "      <td>3.700000</td>\n",
              "      <td>3.600000</td>\n",
              "      <td>4.00000</td>\n",
              "      <td>3.500000</td>\n",
              "      <td>3.900000</td>\n",
              "    </tr>\n",
              "    <tr>\n",
              "      <th>1</th>\n",
              "      <td>Philips</td>\n",
              "      <td>Data Scientist - AI/ML</td>\n",
              "      <td>4.0</td>\n",
              "      <td>Job Title\\nData Scientist - AI/ML\\nJob Descrip...</td>\n",
              "      <td>Bengaluru</td>\n",
              "      <td>Valor desconhecido</td>\n",
              "      <td>1891</td>\n",
              "      <td>Company - Public</td>\n",
              "      <td>Healthcare Services &amp; Hospitals</td>\n",
              "      <td>Healthcare</td>\n",
              "      <td>$10+ billion (USD)</td>\n",
              "      <td>3.800000</td>\n",
              "      <td>3.700000</td>\n",
              "      <td>4.00000</td>\n",
              "      <td>3.500000</td>\n",
              "      <td>4.000000</td>\n",
              "    </tr>\n",
              "    <tr>\n",
              "      <th>2</th>\n",
              "      <td>HSBC</td>\n",
              "      <td>Data Science GSC’s</td>\n",
              "      <td>3.9</td>\n",
              "      <td>Job description\\nGraduate/ Post-graduate degre...</td>\n",
              "      <td>Bengaluru</td>\n",
              "      <td>Valor desconhecido</td>\n",
              "      <td>1865</td>\n",
              "      <td>Company - Public</td>\n",
              "      <td>Banking &amp; Lending</td>\n",
              "      <td>Finance</td>\n",
              "      <td>$10+ billion (USD)</td>\n",
              "      <td>3.600000</td>\n",
              "      <td>3.600000</td>\n",
              "      <td>3.80000</td>\n",
              "      <td>3.400000</td>\n",
              "      <td>3.700000</td>\n",
              "    </tr>\n",
              "    <tr>\n",
              "      <th>3</th>\n",
              "      <td>Facctum Solutions</td>\n",
              "      <td>Data Analyst</td>\n",
              "      <td>sem informação</td>\n",
              "      <td>Job Description\\nExperience: 0 - 2 years in da...</td>\n",
              "      <td>Karnataka</td>\n",
              "      <td>Valor desconhecido</td>\n",
              "      <td>--</td>\n",
              "      <td>Company - Private</td>\n",
              "      <td>--</td>\n",
              "      <td>--</td>\n",
              "      <td>Unknown / Non-Applicable</td>\n",
              "      <td>3.838304</td>\n",
              "      <td>3.678796</td>\n",
              "      <td>3.90301</td>\n",
              "      <td>3.677702</td>\n",
              "      <td>3.804378</td>\n",
              "    </tr>\n",
              "    <tr>\n",
              "      <th>4</th>\n",
              "      <td>JPMorgan Chase &amp; Co</td>\n",
              "      <td>Data and Analytics - Associate</td>\n",
              "      <td>4.0</td>\n",
              "      <td>JOB DESCRIPTION\\n\\nYou are a strategic thinker...</td>\n",
              "      <td>India</td>\n",
              "      <td>Valor desconhecido</td>\n",
              "      <td>1799</td>\n",
              "      <td>Company - Public</td>\n",
              "      <td>Banking &amp; Lending</td>\n",
              "      <td>Finance</td>\n",
              "      <td>$10+ billion (USD)</td>\n",
              "      <td>4.000000</td>\n",
              "      <td>3.900000</td>\n",
              "      <td>3.90000</td>\n",
              "      <td>3.600000</td>\n",
              "      <td>3.700000</td>\n",
              "    </tr>\n",
              "    <tr>\n",
              "      <th>5</th>\n",
              "      <td>Sanfoundry</td>\n",
              "      <td>Data Scientist - Fresher</td>\n",
              "      <td>sem informação</td>\n",
              "      <td>Job Code: Data-Scientist-Fresher-24011\\n\\nLoca...</td>\n",
              "      <td>Hyderābād</td>\n",
              "      <td>₹4,16,516</td>\n",
              "      <td>--</td>\n",
              "      <td>Self-employed</td>\n",
              "      <td>Colleges &amp; Universities</td>\n",
              "      <td>Education</td>\n",
              "      <td>Unknown / Non-Applicable</td>\n",
              "      <td>4.500000</td>\n",
              "      <td>4.300000</td>\n",
              "      <td>4.60000</td>\n",
              "      <td>4.700000</td>\n",
              "      <td>4.600000</td>\n",
              "    </tr>\n",
              "    <tr>\n",
              "      <th>6</th>\n",
              "      <td>Beinex</td>\n",
              "      <td>Trainee in Data Science</td>\n",
              "      <td>3.9</td>\n",
              "      <td>Highlights\\nExperience\\nFreshers\\nJoining Date...</td>\n",
              "      <td>Cochin</td>\n",
              "      <td>₹2,80,977</td>\n",
              "      <td>2017</td>\n",
              "      <td>Company - Private</td>\n",
              "      <td>Information Technology Support Services</td>\n",
              "      <td>Information Technology</td>\n",
              "      <td>Unknown / Non-Applicable</td>\n",
              "      <td>3.800000</td>\n",
              "      <td>3.600000</td>\n",
              "      <td>3.90000</td>\n",
              "      <td>3.900000</td>\n",
              "      <td>3.500000</td>\n",
              "    </tr>\n",
              "    <tr>\n",
              "      <th>7</th>\n",
              "      <td>Sanfoundry</td>\n",
              "      <td>Junior Software Engineer - Data Science - Fresher</td>\n",
              "      <td>sem informação</td>\n",
              "      <td>Job Code: Data-Scientist-Fresher-24012\\n\\nLoca...</td>\n",
              "      <td>Hyderābād</td>\n",
              "      <td>₹3,82,623</td>\n",
              "      <td>--</td>\n",
              "      <td>Self-employed</td>\n",
              "      <td>Colleges &amp; Universities</td>\n",
              "      <td>Education</td>\n",
              "      <td>Unknown / Non-Applicable</td>\n",
              "      <td>4.500000</td>\n",
              "      <td>4.300000</td>\n",
              "      <td>4.60000</td>\n",
              "      <td>4.700000</td>\n",
              "      <td>4.600000</td>\n",
              "    </tr>\n",
              "    <tr>\n",
              "      <th>8</th>\n",
              "      <td>Oracle</td>\n",
              "      <td>Data Scientist</td>\n",
              "      <td>3.8</td>\n",
              "      <td>The data science team at Oracle Analytics work...</td>\n",
              "      <td>Bengaluru</td>\n",
              "      <td>₹7,09,930</td>\n",
              "      <td>1977</td>\n",
              "      <td>Company - Public</td>\n",
              "      <td>Enterprise Software &amp; Network Solutions</td>\n",
              "      <td>Information Technology</td>\n",
              "      <td>$10+ billion (USD)</td>\n",
              "      <td>3.600000</td>\n",
              "      <td>3.500000</td>\n",
              "      <td>3.70000</td>\n",
              "      <td>3.500000</td>\n",
              "      <td>4.000000</td>\n",
              "    </tr>\n",
              "    <tr>\n",
              "      <th>9</th>\n",
              "      <td>PhonePe</td>\n",
              "      <td>Data Scientist</td>\n",
              "      <td>4.1</td>\n",
              "      <td>About PhonePe Group:\\nPhonePe is India’s leadi...</td>\n",
              "      <td>Bengaluru</td>\n",
              "      <td>₹10,24,695</td>\n",
              "      <td>2015</td>\n",
              "      <td>Company - Private</td>\n",
              "      <td>Internet &amp; Web Services</td>\n",
              "      <td>Information Technology</td>\n",
              "      <td>Unknown / Non-Applicable</td>\n",
              "      <td>4.000000</td>\n",
              "      <td>4.200000</td>\n",
              "      <td>4.10000</td>\n",
              "      <td>3.700000</td>\n",
              "      <td>3.800000</td>\n",
              "    </tr>\n",
              "  </tbody>\n",
              "</table>\n",
              "</div>\n",
              "    <div class=\"colab-df-buttons\">\n",
              "\n",
              "  <div class=\"colab-df-container\">\n",
              "    <button class=\"colab-df-convert\" onclick=\"convertToInteractive('df-24d9ac43-5c55-464d-b27a-440b17a4a31c')\"\n",
              "            title=\"Convert this dataframe to an interactive table.\"\n",
              "            style=\"display:none;\">\n",
              "\n",
              "  <svg xmlns=\"http://www.w3.org/2000/svg\" height=\"24px\" viewBox=\"0 -960 960 960\">\n",
              "    <path d=\"M120-120v-720h720v720H120Zm60-500h600v-160H180v160Zm220 220h160v-160H400v160Zm0 220h160v-160H400v160ZM180-400h160v-160H180v160Zm440 0h160v-160H620v160ZM180-180h160v-160H180v160Zm440 0h160v-160H620v160Z\"/>\n",
              "  </svg>\n",
              "    </button>\n",
              "\n",
              "  <style>\n",
              "    .colab-df-container {\n",
              "      display:flex;\n",
              "      gap: 12px;\n",
              "    }\n",
              "\n",
              "    .colab-df-convert {\n",
              "      background-color: #E8F0FE;\n",
              "      border: none;\n",
              "      border-radius: 50%;\n",
              "      cursor: pointer;\n",
              "      display: none;\n",
              "      fill: #1967D2;\n",
              "      height: 32px;\n",
              "      padding: 0 0 0 0;\n",
              "      width: 32px;\n",
              "    }\n",
              "\n",
              "    .colab-df-convert:hover {\n",
              "      background-color: #E2EBFA;\n",
              "      box-shadow: 0px 1px 2px rgba(60, 64, 67, 0.3), 0px 1px 3px 1px rgba(60, 64, 67, 0.15);\n",
              "      fill: #174EA6;\n",
              "    }\n",
              "\n",
              "    .colab-df-buttons div {\n",
              "      margin-bottom: 4px;\n",
              "    }\n",
              "\n",
              "    [theme=dark] .colab-df-convert {\n",
              "      background-color: #3B4455;\n",
              "      fill: #D2E3FC;\n",
              "    }\n",
              "\n",
              "    [theme=dark] .colab-df-convert:hover {\n",
              "      background-color: #434B5C;\n",
              "      box-shadow: 0px 1px 3px 1px rgba(0, 0, 0, 0.15);\n",
              "      filter: drop-shadow(0px 1px 2px rgba(0, 0, 0, 0.3));\n",
              "      fill: #FFFFFF;\n",
              "    }\n",
              "  </style>\n",
              "\n",
              "    <script>\n",
              "      const buttonEl =\n",
              "        document.querySelector('#df-24d9ac43-5c55-464d-b27a-440b17a4a31c button.colab-df-convert');\n",
              "      buttonEl.style.display =\n",
              "        google.colab.kernel.accessAllowed ? 'block' : 'none';\n",
              "\n",
              "      async function convertToInteractive(key) {\n",
              "        const element = document.querySelector('#df-24d9ac43-5c55-464d-b27a-440b17a4a31c');\n",
              "        const dataTable =\n",
              "          await google.colab.kernel.invokeFunction('convertToInteractive',\n",
              "                                                    [key], {});\n",
              "        if (!dataTable) return;\n",
              "\n",
              "        const docLinkHtml = 'Like what you see? Visit the ' +\n",
              "          '<a target=\"_blank\" href=https://colab.research.google.com/notebooks/data_table.ipynb>data table notebook</a>'\n",
              "          + ' to learn more about interactive tables.';\n",
              "        element.innerHTML = '';\n",
              "        dataTable['output_type'] = 'display_data';\n",
              "        await google.colab.output.renderOutput(dataTable, element);\n",
              "        const docLink = document.createElement('div');\n",
              "        docLink.innerHTML = docLinkHtml;\n",
              "        element.appendChild(docLink);\n",
              "      }\n",
              "    </script>\n",
              "  </div>\n",
              "\n",
              "\n",
              "<div id=\"df-451311fe-3a44-42fa-92a7-4502a562ed02\">\n",
              "  <button class=\"colab-df-quickchart\" onclick=\"quickchart('df-451311fe-3a44-42fa-92a7-4502a562ed02')\"\n",
              "            title=\"Suggest charts\"\n",
              "            style=\"display:none;\">\n",
              "\n",
              "<svg xmlns=\"http://www.w3.org/2000/svg\" height=\"24px\"viewBox=\"0 0 24 24\"\n",
              "     width=\"24px\">\n",
              "    <g>\n",
              "        <path d=\"M19 3H5c-1.1 0-2 .9-2 2v14c0 1.1.9 2 2 2h14c1.1 0 2-.9 2-2V5c0-1.1-.9-2-2-2zM9 17H7v-7h2v7zm4 0h-2V7h2v10zm4 0h-2v-4h2v4z\"/>\n",
              "    </g>\n",
              "</svg>\n",
              "  </button>\n",
              "\n",
              "<style>\n",
              "  .colab-df-quickchart {\n",
              "      --bg-color: #E8F0FE;\n",
              "      --fill-color: #1967D2;\n",
              "      --hover-bg-color: #E2EBFA;\n",
              "      --hover-fill-color: #174EA6;\n",
              "      --disabled-fill-color: #AAA;\n",
              "      --disabled-bg-color: #DDD;\n",
              "  }\n",
              "\n",
              "  [theme=dark] .colab-df-quickchart {\n",
              "      --bg-color: #3B4455;\n",
              "      --fill-color: #D2E3FC;\n",
              "      --hover-bg-color: #434B5C;\n",
              "      --hover-fill-color: #FFFFFF;\n",
              "      --disabled-bg-color: #3B4455;\n",
              "      --disabled-fill-color: #666;\n",
              "  }\n",
              "\n",
              "  .colab-df-quickchart {\n",
              "    background-color: var(--bg-color);\n",
              "    border: none;\n",
              "    border-radius: 50%;\n",
              "    cursor: pointer;\n",
              "    display: none;\n",
              "    fill: var(--fill-color);\n",
              "    height: 32px;\n",
              "    padding: 0;\n",
              "    width: 32px;\n",
              "  }\n",
              "\n",
              "  .colab-df-quickchart:hover {\n",
              "    background-color: var(--hover-bg-color);\n",
              "    box-shadow: 0 1px 2px rgba(60, 64, 67, 0.3), 0 1px 3px 1px rgba(60, 64, 67, 0.15);\n",
              "    fill: var(--button-hover-fill-color);\n",
              "  }\n",
              "\n",
              "  .colab-df-quickchart-complete:disabled,\n",
              "  .colab-df-quickchart-complete:disabled:hover {\n",
              "    background-color: var(--disabled-bg-color);\n",
              "    fill: var(--disabled-fill-color);\n",
              "    box-shadow: none;\n",
              "  }\n",
              "\n",
              "  .colab-df-spinner {\n",
              "    border: 2px solid var(--fill-color);\n",
              "    border-color: transparent;\n",
              "    border-bottom-color: var(--fill-color);\n",
              "    animation:\n",
              "      spin 1s steps(1) infinite;\n",
              "  }\n",
              "\n",
              "  @keyframes spin {\n",
              "    0% {\n",
              "      border-color: transparent;\n",
              "      border-bottom-color: var(--fill-color);\n",
              "      border-left-color: var(--fill-color);\n",
              "    }\n",
              "    20% {\n",
              "      border-color: transparent;\n",
              "      border-left-color: var(--fill-color);\n",
              "      border-top-color: var(--fill-color);\n",
              "    }\n",
              "    30% {\n",
              "      border-color: transparent;\n",
              "      border-left-color: var(--fill-color);\n",
              "      border-top-color: var(--fill-color);\n",
              "      border-right-color: var(--fill-color);\n",
              "    }\n",
              "    40% {\n",
              "      border-color: transparent;\n",
              "      border-right-color: var(--fill-color);\n",
              "      border-top-color: var(--fill-color);\n",
              "    }\n",
              "    60% {\n",
              "      border-color: transparent;\n",
              "      border-right-color: var(--fill-color);\n",
              "    }\n",
              "    80% {\n",
              "      border-color: transparent;\n",
              "      border-right-color: var(--fill-color);\n",
              "      border-bottom-color: var(--fill-color);\n",
              "    }\n",
              "    90% {\n",
              "      border-color: transparent;\n",
              "      border-bottom-color: var(--fill-color);\n",
              "    }\n",
              "  }\n",
              "</style>\n",
              "\n",
              "  <script>\n",
              "    async function quickchart(key) {\n",
              "      const quickchartButtonEl =\n",
              "        document.querySelector('#' + key + ' button');\n",
              "      quickchartButtonEl.disabled = true;  // To prevent multiple clicks.\n",
              "      quickchartButtonEl.classList.add('colab-df-spinner');\n",
              "      try {\n",
              "        const charts = await google.colab.kernel.invokeFunction(\n",
              "            'suggestCharts', [key], {});\n",
              "      } catch (error) {\n",
              "        console.error('Error during call to suggestCharts:', error);\n",
              "      }\n",
              "      quickchartButtonEl.classList.remove('colab-df-spinner');\n",
              "      quickchartButtonEl.classList.add('colab-df-quickchart-complete');\n",
              "    }\n",
              "    (() => {\n",
              "      let quickchartButtonEl =\n",
              "        document.querySelector('#df-451311fe-3a44-42fa-92a7-4502a562ed02 button');\n",
              "      quickchartButtonEl.style.display =\n",
              "        google.colab.kernel.accessAllowed ? 'block' : 'none';\n",
              "    })();\n",
              "  </script>\n",
              "</div>\n",
              "\n",
              "    </div>\n",
              "  </div>\n"
            ]
          },
          "metadata": {},
          "execution_count": 122
        }
      ]
    },
    {
      "cell_type": "code",
      "source": [
        "#pronto, seus dados estao limpos!"
      ],
      "metadata": {
        "id": "4aSw2ReSaGiE"
      },
      "execution_count": 124,
      "outputs": []
    }
  ]
}